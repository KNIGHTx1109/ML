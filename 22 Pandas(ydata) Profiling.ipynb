{
 "cells": [
  {
   "cell_type": "code",
   "execution_count": 7,
   "id": "864e86c6",
   "metadata": {},
   "outputs": [],
   "source": [
    "import pandas as pd "
   ]
  },
  {
   "cell_type": "code",
   "execution_count": 8,
   "id": "18efc463",
   "metadata": {},
   "outputs": [],
   "source": [
    "df = pd.read_csv(\"tested.csv\")"
   ]
  },
  {
   "cell_type": "code",
   "execution_count": null,
   "id": "cb1d4bff",
   "metadata": {},
   "outputs": [],
   "source": []
  },
  {
   "cell_type": "code",
   "execution_count": 9,
   "id": "c017a6bc",
   "metadata": {},
   "outputs": [
    {
     "name": "stdout",
     "output_type": "stream",
     "text": [
      "Defaulting to user installation because normal site-packages is not writeable\n",
      "Collecting ydata-profiling\n",
      "  Downloading ydata_profiling-4.14.0-py2.py3-none-any.whl.metadata (22 kB)\n",
      "Requirement already satisfied: scipy<1.16,>=1.4.1 in c:\\programdata\\anaconda3\\lib\\site-packages (from ydata-profiling) (1.11.4)\n",
      "Requirement already satisfied: pandas!=1.4.0,<3.0,>1.1 in c:\\programdata\\anaconda3\\lib\\site-packages (from ydata-profiling) (2.1.4)\n",
      "Collecting matplotlib<=3.10,>=3.5 (from ydata-profiling)\n",
      "  Downloading matplotlib-3.10.0-cp311-cp311-win_amd64.whl.metadata (11 kB)\n",
      "Collecting pydantic>=2 (from ydata-profiling)\n",
      "  Downloading pydantic-2.10.6-py3-none-any.whl.metadata (30 kB)\n",
      "Requirement already satisfied: PyYAML<6.1,>=5.0.0 in c:\\programdata\\anaconda3\\lib\\site-packages (from ydata-profiling) (6.0.1)\n",
      "Requirement already satisfied: jinja2<3.2,>=2.11.1 in c:\\programdata\\anaconda3\\lib\\site-packages (from ydata-profiling) (3.1.3)\n",
      "Collecting visions<0.8.2,>=0.7.5 (from visions[type_image_path]<0.8.2,>=0.7.5->ydata-profiling)\n",
      "  Downloading visions-0.8.1-py3-none-any.whl.metadata (11 kB)\n",
      "Requirement already satisfied: numpy<2.2,>=1.16.0 in c:\\programdata\\anaconda3\\lib\\site-packages (from ydata-profiling) (1.26.4)\n",
      "Requirement already satisfied: htmlmin==0.1.12 in c:\\users\\dhruv\\appdata\\roaming\\python\\python311\\site-packages (from ydata-profiling) (0.1.12)\n",
      "Requirement already satisfied: phik<0.13,>=0.11.1 in c:\\users\\dhruv\\appdata\\roaming\\python\\python311\\site-packages (from ydata-profiling) (0.12.4)\n",
      "Requirement already satisfied: requests<3,>=2.24.0 in c:\\programdata\\anaconda3\\lib\\site-packages (from ydata-profiling) (2.31.0)\n",
      "Requirement already satisfied: tqdm<5,>=4.48.2 in c:\\programdata\\anaconda3\\lib\\site-packages (from ydata-profiling) (4.65.0)\n",
      "Requirement already satisfied: seaborn<0.14,>=0.10.1 in c:\\users\\dhruv\\appdata\\roaming\\python\\python311\\site-packages (from ydata-profiling) (0.13.2)\n",
      "Collecting multimethod<2,>=1.4 (from ydata-profiling)\n",
      "  Downloading multimethod-1.12-py3-none-any.whl.metadata (9.6 kB)\n",
      "Requirement already satisfied: statsmodels<1,>=0.13.2 in c:\\programdata\\anaconda3\\lib\\site-packages (from ydata-profiling) (0.14.0)\n",
      "Collecting typeguard<5,>=3 (from ydata-profiling)\n",
      "  Downloading typeguard-4.4.2-py3-none-any.whl.metadata (3.8 kB)\n",
      "Collecting imagehash==4.3.1 (from ydata-profiling)\n",
      "  Downloading ImageHash-4.3.1-py2.py3-none-any.whl.metadata (8.0 kB)\n",
      "Collecting wordcloud>=1.9.3 (from ydata-profiling)\n",
      "  Downloading wordcloud-1.9.4-cp311-cp311-win_amd64.whl.metadata (3.5 kB)\n",
      "Collecting dacite>=1.8 (from ydata-profiling)\n",
      "  Downloading dacite-1.9.2-py3-none-any.whl.metadata (17 kB)\n",
      "Requirement already satisfied: numba<1,>=0.56.0 in c:\\programdata\\anaconda3\\lib\\site-packages (from ydata-profiling) (0.59.0)\n",
      "Requirement already satisfied: PyWavelets in c:\\programdata\\anaconda3\\lib\\site-packages (from imagehash==4.3.1->ydata-profiling) (1.5.0)\n",
      "Requirement already satisfied: pillow in c:\\programdata\\anaconda3\\lib\\site-packages (from imagehash==4.3.1->ydata-profiling) (10.2.0)\n",
      "Requirement already satisfied: MarkupSafe>=2.0 in c:\\programdata\\anaconda3\\lib\\site-packages (from jinja2<3.2,>=2.11.1->ydata-profiling) (2.1.3)\n",
      "Requirement already satisfied: contourpy>=1.0.1 in c:\\programdata\\anaconda3\\lib\\site-packages (from matplotlib<=3.10,>=3.5->ydata-profiling) (1.2.0)\n",
      "Requirement already satisfied: cycler>=0.10 in c:\\programdata\\anaconda3\\lib\\site-packages (from matplotlib<=3.10,>=3.5->ydata-profiling) (0.11.0)\n",
      "Requirement already satisfied: fonttools>=4.22.0 in c:\\programdata\\anaconda3\\lib\\site-packages (from matplotlib<=3.10,>=3.5->ydata-profiling) (4.25.0)\n",
      "Requirement already satisfied: kiwisolver>=1.3.1 in c:\\programdata\\anaconda3\\lib\\site-packages (from matplotlib<=3.10,>=3.5->ydata-profiling) (1.4.4)\n",
      "Requirement already satisfied: packaging>=20.0 in c:\\programdata\\anaconda3\\lib\\site-packages (from matplotlib<=3.10,>=3.5->ydata-profiling) (23.1)\n",
      "Requirement already satisfied: pyparsing>=2.3.1 in c:\\programdata\\anaconda3\\lib\\site-packages (from matplotlib<=3.10,>=3.5->ydata-profiling) (3.0.9)\n",
      "Requirement already satisfied: python-dateutil>=2.7 in c:\\programdata\\anaconda3\\lib\\site-packages (from matplotlib<=3.10,>=3.5->ydata-profiling) (2.8.2)\n",
      "Requirement already satisfied: llvmlite<0.43,>=0.42.0dev0 in c:\\programdata\\anaconda3\\lib\\site-packages (from numba<1,>=0.56.0->ydata-profiling) (0.42.0)\n",
      "Requirement already satisfied: pytz>=2020.1 in c:\\programdata\\anaconda3\\lib\\site-packages (from pandas!=1.4.0,<3.0,>1.1->ydata-profiling) (2023.3.post1)\n",
      "Requirement already satisfied: tzdata>=2022.1 in c:\\programdata\\anaconda3\\lib\\site-packages (from pandas!=1.4.0,<3.0,>1.1->ydata-profiling) (2023.3)\n",
      "Requirement already satisfied: joblib>=0.14.1 in c:\\users\\dhruv\\appdata\\roaming\\python\\python311\\site-packages (from phik<0.13,>=0.11.1->ydata-profiling) (1.1.1)\n",
      "Collecting annotated-types>=0.6.0 (from pydantic>=2->ydata-profiling)\n",
      "  Downloading annotated_types-0.7.0-py3-none-any.whl.metadata (15 kB)\n",
      "Collecting pydantic-core==2.27.2 (from pydantic>=2->ydata-profiling)\n",
      "  Downloading pydantic_core-2.27.2-cp311-cp311-win_amd64.whl.metadata (6.7 kB)\n",
      "Collecting typing-extensions>=4.12.2 (from pydantic>=2->ydata-profiling)\n",
      "  Downloading typing_extensions-4.12.2-py3-none-any.whl.metadata (3.0 kB)\n",
      "Requirement already satisfied: charset-normalizer<4,>=2 in c:\\programdata\\anaconda3\\lib\\site-packages (from requests<3,>=2.24.0->ydata-profiling) (2.0.4)\n",
      "Requirement already satisfied: idna<4,>=2.5 in c:\\programdata\\anaconda3\\lib\\site-packages (from requests<3,>=2.24.0->ydata-profiling) (3.4)\n",
      "Requirement already satisfied: urllib3<3,>=1.21.1 in c:\\programdata\\anaconda3\\lib\\site-packages (from requests<3,>=2.24.0->ydata-profiling) (2.0.7)\n",
      "Requirement already satisfied: certifi>=2017.4.17 in c:\\programdata\\anaconda3\\lib\\site-packages (from requests<3,>=2.24.0->ydata-profiling) (2024.2.2)\n",
      "Requirement already satisfied: patsy>=0.5.2 in c:\\programdata\\anaconda3\\lib\\site-packages (from statsmodels<1,>=0.13.2->ydata-profiling) (0.5.3)\n",
      "Requirement already satisfied: colorama in c:\\programdata\\anaconda3\\lib\\site-packages (from tqdm<5,>=4.48.2->ydata-profiling) (0.4.6)\n",
      "Requirement already satisfied: attrs>=19.3.0 in c:\\programdata\\anaconda3\\lib\\site-packages (from visions<0.8.2,>=0.7.5->visions[type_image_path]<0.8.2,>=0.7.5->ydata-profiling) (23.1.0)\n",
      "Requirement already satisfied: networkx>=2.4 in c:\\programdata\\anaconda3\\lib\\site-packages (from visions<0.8.2,>=0.7.5->visions[type_image_path]<0.8.2,>=0.7.5->ydata-profiling) (3.1)\n",
      "Collecting puremagic (from visions<0.8.2,>=0.7.5->visions[type_image_path]<0.8.2,>=0.7.5->ydata-profiling)\n",
      "  Downloading puremagic-1.28-py3-none-any.whl.metadata (5.8 kB)\n",
      "Requirement already satisfied: six in c:\\programdata\\anaconda3\\lib\\site-packages (from patsy>=0.5.2->statsmodels<1,>=0.13.2->ydata-profiling) (1.16.0)\n",
      "Downloading ydata_profiling-4.14.0-py2.py3-none-any.whl (393 kB)\n",
      "   ---------------------------------------- 0.0/393.5 kB ? eta -:--:--\n",
      "   ---------------------------------------- 0.0/393.5 kB ? eta -:--:--\n",
      "   -- ------------------------------------- 20.5/393.5 kB ? eta -:--:--\n",
      "   -- ------------------------------------- 20.5/393.5 kB ? eta -:--:--\n",
      "   ----- --------------------------------- 51.2/393.5 kB 435.7 kB/s eta 0:00:01\n",
      "   ------ -------------------------------- 61.4/393.5 kB 465.5 kB/s eta 0:00:01\n",
      "   ------- ------------------------------- 71.7/393.5 kB 326.8 kB/s eta 0:00:01\n",
      "   --------- ----------------------------- 92.2/393.5 kB 403.5 kB/s eta 0:00:01\n",
      "   ---------- --------------------------- 112.6/393.5 kB 409.6 kB/s eta 0:00:01\n",
      "   ----------- -------------------------- 122.9/393.5 kB 400.9 kB/s eta 0:00:01\n",
      "   ------------- ------------------------ 143.4/393.5 kB 369.8 kB/s eta 0:00:01\n",
      "   -------------- ----------------------- 153.6/393.5 kB 382.3 kB/s eta 0:00:01\n",
      "   ----------------- -------------------- 184.3/393.5 kB 371.2 kB/s eta 0:00:01\n",
      "   ------------------- ------------------ 204.8/393.5 kB 377.1 kB/s eta 0:00:01\n",
      "   ------------------- ------------------ 204.8/393.5 kB 377.1 kB/s eta 0:00:01\n",
      "   ---------------------- --------------- 235.5/393.5 kB 379.3 kB/s eta 0:00:01\n",
      "   ------------------------- ------------ 266.2/393.5 kB 390.2 kB/s eta 0:00:01\n",
      "   ------------------------- ------------ 266.2/393.5 kB 390.2 kB/s eta 0:00:01\n",
      "   ----------------------------- -------- 307.2/393.5 kB 404.0 kB/s eta 0:00:01\n",
      "   ------------------------------ ------- 317.4/393.5 kB 401.0 kB/s eta 0:00:01\n",
      "   -------------------------------- ----- 337.9/393.5 kB 411.1 kB/s eta 0:00:01\n",
      "   ---------------------------------- --- 358.4/393.5 kB 390.8 kB/s eta 0:00:01\n",
      "   -------------------------------------- 393.5/393.5 kB 415.7 kB/s eta 0:00:00\n",
      "Downloading ImageHash-4.3.1-py2.py3-none-any.whl (296 kB)\n",
      "   ---------------------------------------- 0.0/296.5 kB ? eta -:--:--\n",
      "   ---------------------------------------- 0.0/296.5 kB ? eta -:--:--\n",
      "   - -------------------------------------- 10.2/296.5 kB ? eta -:--:--\n",
      "   -------- ------------------------------ 61.4/296.5 kB 648.1 kB/s eta 0:00:01\n",
      "   ---------- ---------------------------- 81.9/296.5 kB 651.6 kB/s eta 0:00:01\n",
      "   ------------ -------------------------- 92.2/296.5 kB 581.0 kB/s eta 0:00:01\n",
      "   --------------- ---------------------- 122.9/296.5 kB 514.3 kB/s eta 0:00:01\n",
      "   -------------------- ----------------- 163.8/296.5 kB 577.4 kB/s eta 0:00:01\n",
      "   ------------------------ ------------- 194.6/296.5 kB 560.2 kB/s eta 0:00:01\n",
      "   ------------------------ ------------- 194.6/296.5 kB 560.2 kB/s eta 0:00:01\n",
      "   ------------------------------- ------ 245.8/296.5 kB 578.7 kB/s eta 0:00:01\n",
      "   ----------------------------------- -- 276.5/296.5 kB 586.4 kB/s eta 0:00:01\n",
      "   -------------------------------------- 296.5/296.5 kB 572.6 kB/s eta 0:00:00\n",
      "Downloading dacite-1.9.2-py3-none-any.whl (16 kB)\n",
      "Downloading matplotlib-3.10.0-cp311-cp311-win_amd64.whl (8.0 MB)\n",
      "   ---------------------------------------- 0.0/8.0 MB ? eta -:--:--\n",
      "   ---------------------------------------- 0.0/8.0 MB ? eta -:--:--\n",
      "   ---------------------------------------- 0.1/8.0 MB 1.7 MB/s eta 0:00:05\n",
      "   ---------------------------------------- 0.1/8.0 MB 871.5 kB/s eta 0:00:10\n",
      "    --------------------------------------- 0.1/8.0 MB 901.1 kB/s eta 0:00:09\n",
      "    --------------------------------------- 0.1/8.0 MB 787.7 kB/s eta 0:00:11\n",
      "   - -------------------------------------- 0.2/8.0 MB 831.5 kB/s eta 0:00:10\n",
      "   - -------------------------------------- 0.2/8.0 MB 850.1 kB/s eta 0:00:10\n",
      "   - -------------------------------------- 0.3/8.0 MB 820.5 kB/s eta 0:00:10\n",
      "   - -------------------------------------- 0.3/8.0 MB 764.6 kB/s eta 0:00:11\n",
      "   - -------------------------------------- 0.4/8.0 MB 825.0 kB/s eta 0:00:10\n",
      "   - -------------------------------------- 0.4/8.0 MB 836.4 kB/s eta 0:00:10\n",
      "   -- ------------------------------------- 0.4/8.0 MB 839.7 kB/s eta 0:00:10\n",
      "   -- ------------------------------------- 0.5/8.0 MB 783.5 kB/s eta 0:00:10\n",
      "   -- ------------------------------------- 0.5/8.0 MB 857.5 kB/s eta 0:00:09\n",
      "   -- ------------------------------------- 0.6/8.0 MB 874.1 kB/s eta 0:00:09\n",
      "   -- ------------------------------------- 0.6/8.0 MB 849.6 kB/s eta 0:00:09\n",
      "   --- ------------------------------------ 0.6/8.0 MB 868.8 kB/s eta 0:00:09\n",
      "   --- ------------------------------------ 0.7/8.0 MB 886.5 kB/s eta 0:00:09\n",
      "   --- ------------------------------------ 0.8/8.0 MB 897.8 kB/s eta 0:00:09\n",
      "   --- ------------------------------------ 0.8/8.0 MB 885.9 kB/s eta 0:00:09\n",
      "   ---- ----------------------------------- 0.8/8.0 MB 885.2 kB/s eta 0:00:09\n",
      "   ---- ----------------------------------- 0.9/8.0 MB 926.2 kB/s eta 0:00:08\n",
      "   ---- ----------------------------------- 1.0/8.0 MB 923.7 kB/s eta 0:00:08\n",
      "   ---- ----------------------------------- 1.0/8.0 MB 935.3 kB/s eta 0:00:08\n",
      "   ----- ---------------------------------- 1.0/8.0 MB 919.3 kB/s eta 0:00:08\n",
      "   ----- ---------------------------------- 1.1/8.0 MB 969.8 kB/s eta 0:00:08\n",
      "   ----- ---------------------------------- 1.2/8.0 MB 966.0 kB/s eta 0:00:08\n",
      "   ------ --------------------------------- 1.2/8.0 MB 974.8 kB/s eta 0:00:07\n",
      "   ------ --------------------------------- 1.3/8.0 MB 991.2 kB/s eta 0:00:07\n",
      "   ------ --------------------------------- 1.4/8.0 MB 1.0 MB/s eta 0:00:07\n",
      "   ------- -------------------------------- 1.4/8.0 MB 1.0 MB/s eta 0:00:07\n",
      "   ------- -------------------------------- 1.5/8.0 MB 1.0 MB/s eta 0:00:07\n",
      "   ------- -------------------------------- 1.6/8.0 MB 1.0 MB/s eta 0:00:07\n",
      "   -------- ------------------------------- 1.6/8.0 MB 1.1 MB/s eta 0:00:07\n",
      "   -------- ------------------------------- 1.7/8.0 MB 1.1 MB/s eta 0:00:06\n",
      "   -------- ------------------------------- 1.7/8.0 MB 1.0 MB/s eta 0:00:07\n",
      "   --------- ------------------------------ 1.8/8.0 MB 1.1 MB/s eta 0:00:06\n",
      "   --------- ------------------------------ 1.9/8.0 MB 1.1 MB/s eta 0:00:06\n",
      "   --------- ------------------------------ 2.0/8.0 MB 1.1 MB/s eta 0:00:06\n",
      "   ---------- ----------------------------- 2.0/8.0 MB 1.1 MB/s eta 0:00:06\n",
      "   ---------- ----------------------------- 2.1/8.0 MB 1.1 MB/s eta 0:00:06\n",
      "   ---------- ----------------------------- 2.2/8.0 MB 1.1 MB/s eta 0:00:06\n",
      "   ----------- ---------------------------- 2.3/8.0 MB 1.1 MB/s eta 0:00:06\n",
      "   ----------- ---------------------------- 2.3/8.0 MB 1.1 MB/s eta 0:00:05\n",
      "   ------------ --------------------------- 2.4/8.0 MB 1.2 MB/s eta 0:00:05\n",
      "   ------------ --------------------------- 2.5/8.0 MB 1.2 MB/s eta 0:00:05\n",
      "   ------------ --------------------------- 2.6/8.0 MB 1.2 MB/s eta 0:00:05\n",
      "   ------------- -------------------------- 2.6/8.0 MB 1.2 MB/s eta 0:00:05\n",
      "   ------------- -------------------------- 2.7/8.0 MB 1.2 MB/s eta 0:00:05\n",
      "   -------------- ------------------------- 2.8/8.0 MB 1.2 MB/s eta 0:00:05\n",
      "   -------------- ------------------------- 2.9/8.0 MB 1.2 MB/s eta 0:00:05\n",
      "   -------------- ------------------------- 2.9/8.0 MB 1.2 MB/s eta 0:00:05\n",
      "   --------------- ------------------------ 3.1/8.0 MB 1.3 MB/s eta 0:00:04\n",
      "   --------------- ------------------------ 3.2/8.0 MB 1.3 MB/s eta 0:00:04\n",
      "   ---------------- ----------------------- 3.3/8.0 MB 1.3 MB/s eta 0:00:04\n",
      "   ---------------- ----------------------- 3.3/8.0 MB 1.3 MB/s eta 0:00:04\n",
      "   ----------------- ---------------------- 3.5/8.0 MB 1.3 MB/s eta 0:00:04\n",
      "   ----------------- ---------------------- 3.6/8.0 MB 1.3 MB/s eta 0:00:04\n",
      "   ------------------ --------------------- 3.7/8.0 MB 1.3 MB/s eta 0:00:04\n",
      "   ------------------ --------------------- 3.8/8.0 MB 1.4 MB/s eta 0:00:04\n",
      "   ------------------- -------------------- 3.8/8.0 MB 1.4 MB/s eta 0:00:04\n",
      "   ------------------- -------------------- 3.9/8.0 MB 1.4 MB/s eta 0:00:04\n",
      "   -------------------- ------------------- 4.1/8.0 MB 1.4 MB/s eta 0:00:03\n",
      "   -------------------- ------------------- 4.2/8.0 MB 1.4 MB/s eta 0:00:03\n",
      "   --------------------- ------------------ 4.3/8.0 MB 1.4 MB/s eta 0:00:03\n",
      "   --------------------- ------------------ 4.4/8.0 MB 1.4 MB/s eta 0:00:03\n",
      "   ---------------------- ----------------- 4.6/8.0 MB 1.5 MB/s eta 0:00:03\n",
      "   ----------------------- ---------------- 4.7/8.0 MB 1.5 MB/s eta 0:00:03\n",
      "   ----------------------- ---------------- 4.8/8.0 MB 1.5 MB/s eta 0:00:03\n",
      "   ------------------------ --------------- 4.9/8.0 MB 1.5 MB/s eta 0:00:03\n",
      "   ------------------------- -------------- 5.1/8.0 MB 1.5 MB/s eta 0:00:02\n",
      "   -------------------------- ------------- 5.2/8.0 MB 1.6 MB/s eta 0:00:02\n",
      "   -------------------------- ------------- 5.3/8.0 MB 1.6 MB/s eta 0:00:02\n",
      "   --------------------------- ------------ 5.5/8.0 MB 1.6 MB/s eta 0:00:02\n",
      "   ---------------------------- ----------- 5.7/8.0 MB 1.6 MB/s eta 0:00:02\n",
      "   ----------------------------- ---------- 5.8/8.0 MB 1.7 MB/s eta 0:00:02\n",
      "   ----------------------------- ---------- 5.9/8.0 MB 1.7 MB/s eta 0:00:02\n",
      "   ------------------------------ --------- 6.1/8.0 MB 1.7 MB/s eta 0:00:02\n",
      "   ------------------------------- -------- 6.3/8.0 MB 1.7 MB/s eta 0:00:02\n",
      "   -------------------------------- ------- 6.5/8.0 MB 1.8 MB/s eta 0:00:01\n",
      "   -------------------------------- ------- 6.6/8.0 MB 1.8 MB/s eta 0:00:01\n",
      "   ---------------------------------- ----- 6.9/8.0 MB 1.8 MB/s eta 0:00:01\n",
      "   ----------------------------------- ---- 7.1/8.0 MB 1.8 MB/s eta 0:00:01\n",
      "   ------------------------------------ --- 7.2/8.0 MB 1.9 MB/s eta 0:00:01\n",
      "   ------------------------------------ --- 7.3/8.0 MB 1.9 MB/s eta 0:00:01\n",
      "   ------------------------------------- -- 7.6/8.0 MB 1.9 MB/s eta 0:00:01\n",
      "   ---------------------------------------  7.9/8.0 MB 1.9 MB/s eta 0:00:01\n",
      "   ---------------------------------------  8.0/8.0 MB 2.0 MB/s eta 0:00:01\n",
      "   ---------------------------------------- 8.0/8.0 MB 2.0 MB/s eta 0:00:00\n",
      "Downloading multimethod-1.12-py3-none-any.whl (10 kB)\n",
      "Downloading pydantic-2.10.6-py3-none-any.whl (431 kB)\n",
      "   ---------------------------------------- 0.0/431.7 kB ? eta -:--:--\n",
      "   -------- ------------------------------- 92.2/431.7 kB 1.7 MB/s eta 0:00:01\n",
      "   --------------------------------- ------ 358.4/431.7 kB 3.7 MB/s eta 0:00:01\n",
      "   ---------------------------------------- 431.7/431.7 kB 4.5 MB/s eta 0:00:00\n",
      "Downloading pydantic_core-2.27.2-cp311-cp311-win_amd64.whl (2.0 MB)\n",
      "   ---------------------------------------- 0.0/2.0 MB ? eta -:--:--\n",
      "   --- ------------------------------------ 0.2/2.0 MB 5.0 MB/s eta 0:00:01\n",
      "   ----- ---------------------------------- 0.3/2.0 MB 3.2 MB/s eta 0:00:01\n",
      "   ------------- -------------------------- 0.7/2.0 MB 4.8 MB/s eta 0:00:01\n",
      "   ------------------- -------------------- 0.9/2.0 MB 5.0 MB/s eta 0:00:01\n",
      "   ------------------------ --------------- 1.2/2.0 MB 5.1 MB/s eta 0:00:01\n",
      "   ----------------------------- ---------- 1.5/2.0 MB 5.1 MB/s eta 0:00:01\n",
      "   ---------------------------------- ----- 1.7/2.0 MB 5.4 MB/s eta 0:00:01\n",
      "   ---------------------------------------  2.0/2.0 MB 5.2 MB/s eta 0:00:01\n",
      "   ---------------------------------------- 2.0/2.0 MB 5.3 MB/s eta 0:00:00\n",
      "Downloading typeguard-4.4.2-py3-none-any.whl (35 kB)\n",
      "Downloading visions-0.8.1-py3-none-any.whl (105 kB)\n",
      "   ---------------------------------------- 0.0/105.4 kB ? eta -:--:--\n",
      "   ---------------------------------- ----- 92.2/105.4 kB 2.6 MB/s eta 0:00:01\n",
      "   ---------------------------------------- 105.4/105.4 kB 1.2 MB/s eta 0:00:00\n",
      "Downloading wordcloud-1.9.4-cp311-cp311-win_amd64.whl (299 kB)\n",
      "   ---------------------------------------- 0.0/299.9 kB ? eta -:--:--\n",
      "   ------------------------- -------------- 194.6/299.9 kB 5.8 MB/s eta 0:00:01\n",
      "   ---------------------------------------- 299.9/299.9 kB 4.6 MB/s eta 0:00:00\n",
      "Downloading annotated_types-0.7.0-py3-none-any.whl (13 kB)\n",
      "Downloading typing_extensions-4.12.2-py3-none-any.whl (37 kB)\n",
      "Downloading puremagic-1.28-py3-none-any.whl (43 kB)\n",
      "   ---------------------------------------- 0.0/43.2 kB ? eta -:--:--\n",
      "   ---------------------------- ----------- 30.7/43.2 kB 1.3 MB/s eta 0:00:01\n",
      "   ---------------------------------------- 43.2/43.2 kB 523.8 kB/s eta 0:00:00\n",
      "Installing collected packages: puremagic, typing-extensions, multimethod, dacite, annotated-types, typeguard, pydantic-core, matplotlib, imagehash, wordcloud, visions, pydantic, ydata-profiling\n",
      "  Attempting uninstall: multimethod\n",
      "    Found existing installation: multimethod 2.0\n",
      "    Uninstalling multimethod-2.0:\n",
      "      Successfully uninstalled multimethod-2.0\n",
      "  Attempting uninstall: matplotlib\n",
      "    Found existing installation: matplotlib 3.10.1\n",
      "    Uninstalling matplotlib-3.10.1:\n",
      "      Successfully uninstalled matplotlib-3.10.1\n",
      "  Attempting uninstall: imagehash\n",
      "    Found existing installation: ImageHash 4.3.2\n",
      "    Uninstalling ImageHash-4.3.2:\n",
      "      Successfully uninstalled ImageHash-4.3.2\n",
      "  Attempting uninstall: visions\n",
      "    Found existing installation: visions 0.7.4\n",
      "    Uninstalling visions-0.7.4:\n",
      "      Successfully uninstalled visions-0.7.4\n",
      "Successfully installed annotated-types-0.7.0 dacite-1.9.2 imagehash-4.3.1 matplotlib-3.10.0 multimethod-1.12 puremagic-1.28 pydantic-2.10.6 pydantic-core-2.27.2 typeguard-4.4.2 typing-extensions-4.12.2 visions-0.8.1 wordcloud-1.9.4 ydata-profiling-4.14.0\n",
      "Note: you may need to restart the kernel to use updated packages.\n"
     ]
    },
    {
     "name": "stderr",
     "output_type": "stream",
     "text": [
      "  WARNING: The script wordcloud_cli.exe is installed in 'C:\\Users\\dhruv\\AppData\\Roaming\\Python\\Python311\\Scripts' which is not on PATH.\n",
      "  Consider adding this directory to PATH or, if you prefer to suppress this warning, use --no-warn-script-location.\n",
      "  WARNING: The scripts pandas_profiling.exe and ydata_profiling.exe are installed in 'C:\\Users\\dhruv\\AppData\\Roaming\\Python\\Python311\\Scripts' which is not on PATH.\n",
      "  Consider adding this directory to PATH or, if you prefer to suppress this warning, use --no-warn-script-location.\n",
      "ERROR: pip's dependency resolver does not currently take into account all the packages that are installed. This behaviour is the source of the following dependency conflicts.\n",
      "pandas-profiling 3.2.0 requires visions[type_image_path]==0.7.4, but you have visions 0.8.1 which is incompatible.\n"
     ]
    }
   ],
   "source": [
    "pip install -U ydata-profiling\n"
   ]
  },
  {
   "cell_type": "code",
   "execution_count": 10,
   "id": "8423afb2",
   "metadata": {},
   "outputs": [
    {
     "data": {
      "text/html": [
       "\n",
       "            <div>\n",
       "                <ins><a href=\"ttps://ydata.ai/register\">Upgrade to ydata-sdk</a></ins>\n",
       "                <p>\n",
       "                    Improve your data and profiling with ydata-sdk, featuring data quality scoring, redundancy detection, outlier identification, text validation, and synthetic data generation.\n",
       "                </p>\n",
       "            </div>\n",
       "            "
      ],
      "text/plain": [
       "<IPython.core.display.HTML object>"
      ]
     },
     "metadata": {},
     "output_type": "display_data"
    },
    {
     "data": {
      "application/vnd.jupyter.widget-view+json": {
       "model_id": "bf35a06da4094da8a71ea87697d22c80",
       "version_major": 2,
       "version_minor": 0
      },
      "text/plain": [
       "Summarize dataset:   0%|          | 0/5 [00:00<?, ?it/s]"
      ]
     },
     "metadata": {},
     "output_type": "display_data"
    },
    {
     "data": {
      "application/vnd.jupyter.widget-view+json": {
       "model_id": "f5393b5e4eb0467eb68d56cc74b54253",
       "version_major": 2,
       "version_minor": 0
      },
      "text/plain": [
       "Generate report structure:   0%|          | 0/1 [00:00<?, ?it/s]"
      ]
     },
     "metadata": {},
     "output_type": "display_data"
    },
    {
     "data": {
      "application/vnd.jupyter.widget-view+json": {
       "model_id": "0383b93d61184bd097875b72fd284772",
       "version_major": 2,
       "version_minor": 0
      },
      "text/plain": [
       "Render HTML:   0%|          | 0/1 [00:00<?, ?it/s]"
      ]
     },
     "metadata": {},
     "output_type": "display_data"
    },
    {
     "data": {
      "application/vnd.jupyter.widget-view+json": {
       "model_id": "00506f4699c74c5393f6ef4a3279f4b7",
       "version_major": 2,
       "version_minor": 0
      },
      "text/plain": [
       "Export report to file:   0%|          | 0/1 [00:00<?, ?it/s]"
      ]
     },
     "metadata": {},
     "output_type": "display_data"
    }
   ],
   "source": [
    "from ydata_profiling import ProfileReport\n",
    "prof = ProfileReport(df)\n",
    "prof.to_file(output_file = 'Tit.html')"
   ]
  },
  {
   "cell_type": "code",
   "execution_count": null,
   "id": "352a33ba",
   "metadata": {},
   "outputs": [],
   "source": []
  }
 ],
 "metadata": {
  "kernelspec": {
   "display_name": "Python 3 (ipykernel)",
   "language": "python",
   "name": "python3"
  },
  "language_info": {
   "codemirror_mode": {
    "name": "ipython",
    "version": 3
   },
   "file_extension": ".py",
   "mimetype": "text/x-python",
   "name": "python",
   "nbconvert_exporter": "python",
   "pygments_lexer": "ipython3",
   "version": "3.11.7"
  }
 },
 "nbformat": 4,
 "nbformat_minor": 5
}
